{
 "cells": [
  {
   "cell_type": "code",
   "execution_count": 1,
   "metadata": {},
   "outputs": [],
   "source": [
    "import numpy as np\n",
    "\n",
    "def hartree_fock_iteration(S, H_core, max_iterations=100, convergence_threshold=1e-6):\n",
    "    \"\"\"\n",
    "    Простой алгоритм метода Хартри-Фока.\n",
    "    S: матрица перекрытия\n",
    "    H_core: основная матрица Хартри-Фока\n",
    "    \"\"\"\n",
    "    print(\"Starting Hartree-Fock iteration...\")\n",
    "    F = H_core.copy()  # Начальная Фоковская матрица\n",
    "    energy = 0.0\n",
    "\n",
    "    for iteration in range(max_iterations):\n",
    "        # Решаем уравнение Hψ = εψ\n",
    "        eigenvalues, eigenvectors = np.linalg.eigh(F)\n",
    "\n",
    "        # Обновляем энергию и матрицу F (упрощенно)\n",
    "        energy_new = np.sum(eigenvalues)\n",
    "        if abs(energy_new - energy) < convergence_threshold:\n",
    "            print(f\"Converged at iteration {iteration+1}\")\n",
    "            break\n",
    "        energy = energy_new\n",
    "\n",
    "        print(f\"Iteration {iteration+1}: Energy = {energy:.6f}\")\n",
    "\n",
    "    return energy, eigenvalues, eigenvectors\n"
   ]
  }
 ],
 "metadata": {
  "kernelspec": {
   "display_name": "Python 3",
   "language": "python",
   "name": "python3"
  },
  "language_info": {
   "codemirror_mode": {
    "name": "ipython",
    "version": 3
   },
   "file_extension": ".py",
   "mimetype": "text/x-python",
   "name": "python",
   "nbconvert_exporter": "python",
   "pygments_lexer": "ipython3",
   "version": "3.9.6"
  }
 },
 "nbformat": 4,
 "nbformat_minor": 2
}
