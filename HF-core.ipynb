{
 "cells": [
  {
   "cell_type": "code",
   "execution_count": 1,
   "metadata": {},
   "outputs": [
    {
     "name": "stderr",
     "output_type": "stream",
     "text": [
      "/Users/admin/Library/Python/3.9/lib/python/site-packages/urllib3/__init__.py:35: NotOpenSSLWarning: urllib3 v2 only supports OpenSSL 1.1.1+, currently the 'ssl' module is compiled with 'LibreSSL 2.8.3'. See: https://github.com/urllib3/urllib3/issues/3020\n",
      "  warnings.warn(\n"
     ]
    }
   ],
   "source": [
    "import numpy as np\n",
    "from scipy.spatial.distance import pdist, squareform\n",
    "from scipy.optimize import minimize\n",
    "from jarvis.db.figshare import data\n",
    "from jarvis.core.atoms import Atoms\n",
    "\n",
    "def compute_density_matrix(C, num_electrons):\n",
    "    num_occupied = num_electrons // 2\n",
    "    return np.dot(C[:, :num_occupied], C[:, :num_occupied].T)\n",
    "\n",
    "def compute_two_electron_integrals(P, k_point):\n",
    "    G = np.zeros_like(P)\n",
    "    size = P.shape[0]\n",
    "    for p in range(size):\n",
    "        for q in range(size):\n",
    "            for r in range(size):\n",
    "                for s in range(size):\n",
    "                    phase_factor = np.exp(1j * k_point * (r - s))\n",
    "                    two_electron_value = phase_factor.real / (1 + abs(p - q) + abs(r - s))\n",
    "                    G[p, q] += P[r, s] * two_electron_value\n",
    "    return G\n"
   ]
  },
  {
   "cell_type": "code",
   "execution_count": 2,
   "metadata": {},
   "outputs": [],
   "source": [
    "def calculate_h_core(atoms, alpha_params, beta_params, gamma_params):\n",
    "    \"\"\"\n",
    "    Генерация полуэмпирической H_core матрицы.\n",
    "    alpha_params: словарь диагональных элементов (по элементу атома)\n",
    "    beta_params: словарь внедиагональных элементов (по парам элементов)\n",
    "    gamma_params: словарь дополнительных параметров\n",
    "    \"\"\"\n",
    "    num_atoms = len(atoms.elements)\n",
    "    H_core = np.zeros((num_atoms, num_atoms))\n",
    "    coords = np.array(atoms.cart_coords)\n",
    "    distances = squareform(pdist(coords))\n",
    "\n",
    "    # Значения по умолчанию\n",
    "    default_alpha = -5.0  # Значение для неизвестных элементов\n",
    "    default_beta = -1.0   # Внедиагональное значение по умолчанию\n",
    "\n",
    "    for i in range(num_atoms):\n",
    "        for j in range(num_atoms):\n",
    "            if i == j:\n",
    "                element = atoms.elements[i]\n",
    "                H_core[i, j] = alpha_params.get(element, default_alpha)\n",
    "            else:\n",
    "                pair = tuple(sorted((atoms.elements[i], atoms.elements[j])))\n",
    "                H_core[i, j] = beta_params.get(pair, default_beta) * np.exp(-distances[i, j])\n",
    "\n",
    "    return H_core\n"
   ]
  },
  {
   "cell_type": "code",
   "execution_count": 3,
   "metadata": {},
   "outputs": [],
   "source": [
    "def compute_fock_matrix(H_core, P, k_point):\n",
    "    G = compute_two_electron_integrals(P, k_point)\n",
    "    phase = np.exp(1j * k_point)\n",
    "    return H_core * phase.real + G\n",
    "\n",
    "def hartree_fock_pbc(S, H_core, num_electrons, k_points, max_iterations=50, convergence_threshold=1e-6):\n",
    "    energy_total = 0.0\n",
    "    P = np.zeros_like(H_core)\n",
    "    S_inv_sqrt = np.linalg.inv(np.sqrt(S))\n",
    "    \n",
    "    for k in k_points:\n",
    "        H_core_k = np.dot(S_inv_sqrt.T, np.dot(H_core, S_inv_sqrt))\n",
    "        energy = 0.0\n",
    "        for iteration in range(max_iterations):\n",
    "            F = compute_fock_matrix(H_core_k, P, k)\n",
    "            eigenvalues, eigenvectors = np.linalg.eigh(F)\n",
    "            C = np.dot(S_inv_sqrt, eigenvectors)\n",
    "            P_new = compute_density_matrix(C, num_electrons)\n",
    "            energy_new = np.sum(P_new * (H_core + F))\n",
    "            \n",
    "            if abs(energy_new - energy) < convergence_threshold:\n",
    "                break\n",
    "            energy = energy_new\n",
    "            P = P_new\n",
    "        energy_total += energy\n",
    "    return energy_total / len(k_points)\n"
   ]
  },
  {
   "cell_type": "code",
   "execution_count": 4,
   "metadata": {},
   "outputs": [
    {
     "name": "stdout",
     "output_type": "stream",
     "text": [
      "Загрузка данных JARVIS-DFT...\n",
      "Obtaining 2D dataset 1.1k ...\n",
      "Reference:https://www.nature.com/articles/s41524-020-00440-1\n",
      "Other versions:https://doi.org/10.6084/m9.figshare.6815705\n",
      "Loading the zipfile...\n",
      "Loading completed.\n",
      "H_core матрица:\n",
      " [[-5.         -0.15320738 -0.03388534]\n",
      " [-0.15320738 -5.         -0.08392913]\n",
      " [-0.03388534 -0.08392913 -5.        ]]\n"
     ]
    }
   ],
   "source": [
    "\n",
    "dft_2d_data = data('dft_2d')\n",
    "\n",
    "# Параметры для H_core\n",
    "alpha_params = {'C': -7.441409, 'B': -7.2, 'N': -6.8}  # Энергии на диагонали\n",
    "beta_params = {('C', 'C'): -2.135484, ('B', 'N'): -2.0}  # Внедиагональные элементы\n",
    "gamma_params = {} \n",
    "\n",
    "\n",
    "material_data = dft_2d_data[0]  # Берём первый материал для примера\n",
    "if material_data:\n",
    "    atoms = Atoms.from_dict(material_data['atoms'])\n",
    "    S = np.eye(len(atoms.elements))  # Матрица перекрытий (единичная)\n",
    "    \n",
    "    H_core = calculate_h_core(atoms, alpha_params, beta_params, gamma_params)\n",
    "    print(\"H_core матрица:\\n\", H_core)\n",
    "else:\n",
    "    print(\"Материал не найден.\")\n"
   ]
  },
  {
   "cell_type": "code",
   "execution_count": 5,
   "metadata": {},
   "outputs": [
    {
     "name": "stdout",
     "output_type": "stream",
     "text": [
      "Hartree-Fock энергия: -4.429830 эВ\n",
      "JARVIS-DFT энергия: -4.520940 эВ\n"
     ]
    }
   ],
   "source": [
    "k_points = [0.0, np.pi / 2, np.pi]\n",
    "hf_energy = hartree_fock_pbc(S, H_core, num_electrons=2, k_points=k_points)\n",
    "dft_energy = material_data.get('optb88vdw_total_energy', None)\n",
    "\n",
    "print(f\"Hartree-Fock энергия: {hf_energy:.6f} эВ\")\n",
    "print(f\"JARVIS-DFT энергия: {dft_energy:.6f} эВ\")\n"
   ]
  },
  {
   "cell_type": "code",
   "execution_count": 6,
   "metadata": {},
   "outputs": [],
   "source": [
    "from scipy.spatial.distance import pdist, squareform\n",
    "import numpy as np\n",
    "\n",
    "def generate_features_extended(atoms, max_features=10):\n",
    "    \"\"\"\n",
    "    Генерация расширенных признаков на основе расстояний, числа атомов и плотности структуры.\n",
    "    \"\"\"\n",
    "    coords = np.array(atoms.cart_coords)\n",
    "    distances = pdist(coords)\n",
    "    distances = np.sort(distances)[:max_features]  # Берём max_features расстояний\n",
    "    \n",
    "    # Дополнение нулями до фиксированного размера\n",
    "    features = np.pad(distances, (0, max_features - len(distances)), 'constant')\n",
    "\n",
    "    # Дополнительные признаки\n",
    "    num_atoms = len(atoms.elements)\n",
    "    density = num_atoms / atoms.volume\n",
    "    mean_distance = np.mean(distances) if len(distances) > 0 else 0\n",
    "\n",
    "    features = np.append(features, [num_atoms, density, mean_distance])\n",
    "    return features\n"
   ]
  },
  {
   "cell_type": "code",
   "execution_count": 7,
   "metadata": {},
   "outputs": [
    {
     "name": "stdout",
     "output_type": "stream",
     "text": [
      "Obtaining 2D dataset 1.1k ...\n",
      "Reference:https://www.nature.com/articles/s41524-020-00440-1\n",
      "Other versions:https://doi.org/10.6084/m9.figshare.6815705\n",
      "Loading the zipfile...\n",
      "Loading completed.\n",
      "Данные загружены: 1103 материалов.\n"
     ]
    }
   ],
   "source": [
    "from jarvis.db.figshare import data\n",
    "from jarvis.core.atoms import Atoms\n",
    "from sklearn.model_selection import train_test_split\n",
    "from sklearn.ensemble import GradientBoostingRegressor\n",
    "from sklearn.metrics import mean_absolute_error\n",
    "\n",
    "# Загрузка данных\n",
    "dft_2d_data = data('dft_2d')\n",
    "\n",
    "# Сбор данных\n",
    "X, y = [], []\n",
    "for material in dft_2d_data:\n",
    "    atoms_data = material.get('atoms', None)\n",
    "    energy_dft = material.get('optb88vdw_total_energy', None)\n",
    "\n",
    "    if atoms_data and energy_dft:\n",
    "        atoms = Atoms.from_dict(atoms_data)\n",
    "        features = generate_features_extended(atoms)\n",
    "        X.append(features)\n",
    "        y.append(energy_dft)\n",
    "\n",
    "X = np.array(X)\n",
    "y = np.array(y)\n",
    "print(f\"Данные загружены: {X.shape[0]} материалов.\")\n"
   ]
  },
  {
   "cell_type": "code",
   "execution_count": 8,
   "metadata": {},
   "outputs": [
    {
     "name": "stdout",
     "output_type": "stream",
     "text": [
      "Обучение модели...\n",
      "Средняя абсолютная ошибка на тесте: 0.887124 эВ\n"
     ]
    }
   ],
   "source": [
    "# Разделение на обучающую и тестовую выборки\n",
    "X_train, X_test, y_train, y_test = train_test_split(X, y, test_size=0.2, random_state=42)\n",
    "\n",
    "# Обучение модели градиентного бустинга\n",
    "print(\"Обучение модели...\")\n",
    "model = GradientBoostingRegressor(n_estimators=200, learning_rate=0.05, random_state=42)\n",
    "model.fit(X_train, y_train)\n",
    "\n",
    "# Оценка качества на тестовой выборке\n",
    "y_pred = model.predict(X_test)\n",
    "mae = mean_absolute_error(y_test, y_pred)\n",
    "print(f\"Средняя абсолютная ошибка на тесте: {mae:.6f} эВ\")\n"
   ]
  },
  {
   "cell_type": "code",
   "execution_count": 15,
   "metadata": {},
   "outputs": [
    {
     "name": "stdout",
     "output_type": "stream",
     "text": [
      "Предсказанная энергия: -5.050642 эВ\n",
      "Энергия из JARVIS-DFT: -4.520940 эВ\n"
     ]
    }
   ],
   "source": [
    "# Предсказание для нового материала\n",
    "new_material = dft_2d_data[0] \n",
    "atoms = Atoms.from_dict(new_material['atoms'])\n",
    "features = generate_features_extended(atoms)\n",
    "\n",
    "predicted_energy = model.predict([features])[0]\n",
    "dft_energy = new_material['optb88vdw_total_energy']\n",
    "\n",
    "print(f\"Предсказанная энергия: {predicted_energy:.6f} эВ\")\n",
    "print(f\"Энергия из JARVIS-DFT: {dft_energy:.6f} эВ\")\n"
   ]
  }
 ],
 "metadata": {
  "kernelspec": {
   "display_name": "Python 3",
   "language": "python",
   "name": "python3"
  },
  "language_info": {
   "codemirror_mode": {
    "name": "ipython",
    "version": 3
   },
   "file_extension": ".py",
   "mimetype": "text/x-python",
   "name": "python",
   "nbconvert_exporter": "python",
   "pygments_lexer": "ipython3",
   "version": "3.9.6"
  }
 },
 "nbformat": 4,
 "nbformat_minor": 2
}
